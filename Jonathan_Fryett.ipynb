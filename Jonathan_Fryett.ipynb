{
  "nbformat": 4,
  "nbformat_minor": 0,
  "metadata": {
    "colab": {
      "name": "Jonathan Fryett.ipynb",
      "provenance": [],
      "collapsed_sections": [],
      "authorship_tag": "ABX9TyM/EMDrbkIRRWBbCpo2GdH/",
      "include_colab_link": true
    },
    "kernelspec": {
      "name": "python3",
      "display_name": "Python 3"
    }
  },
  "cells": [
    {
      "cell_type": "markdown",
      "metadata": {
        "id": "view-in-github",
        "colab_type": "text"
      },
      "source": [
        "<a href=\"https://colab.research.google.com/github/jonathanfryett/Profit-Discount-Analysis/blob/main/Jonathan_Fryett.ipynb\" target=\"_parent\"><img src=\"https://colab.research.google.com/assets/colab-badge.svg\" alt=\"Open In Colab\"/></a>"
      ]
    },
    {
      "cell_type": "markdown",
      "metadata": {
        "id": "0nJmNF6tjgG5"
      },
      "source": [
        "Raise Profits via lowering costs/discounts or/and increase sales/revenues\n"
      ]
    },
    {
      "cell_type": "code",
      "metadata": {
        "id": "Y4E8a2yUBN9h"
      },
      "source": [
        "import pandas as pd\n",
        "xl = pd.ExcelFile(\"/content/TableauSalesData (1).xlsx\")\n",
        "SalesData = xl.parse(\"Orders\")\n",
        "Regions = SalesData.loc[SalesData[\"Category\"]==\"Region\"]"
      ],
      "execution_count": null,
      "outputs": []
    },
    {
      "cell_type": "code",
      "metadata": {
        "id": "GAS66wkUOxQm"
      },
      "source": [
        "#To find total Sales and Profits for all Regions\n",
        "#Looking for lowest profiting Region to focus our data analytics\n",
        "def RegionSalesProfits():\n",
        "  print(\"*\"*50)\n",
        "  print(\"\\n\")\n",
        "  print(\"Total Profits and Sales from all Regions\")\n",
        "  RegProfits = SalesData[[\"Region\", \"Profit\", \"Sales\"]]\n",
        "  Total = RegProfits.groupby(by=\"Region\").sum().sort_values(by=\"Profit\", ascending = False).round()\n",
        "  display(Total)\n",
        "  print(\"\\n\")\n",
        "  print(\"*\"*50)"
      ],
      "execution_count": null,
      "outputs": []
    },
    {
      "cell_type": "code",
      "metadata": {
        "id": "T3WWE81RQzrQ"
      },
      "source": [
        "#To find total Sales and Profits for the three segments within the Central Region\n",
        "def CentralSegmentSalesProfits():\n",
        "  print(\"*\"*50)\n",
        "  print(\"\\n\")\n",
        "  print(\"Total Profits and Sales for each Segment from the Central Region\")\n",
        "  JustCent = SalesData.loc[SalesData[\"Region\"]==\"Central\"]\n",
        "  CentPS = JustCent[[\"Segment\", \"Profit\", \"Sales\"]]\n",
        "  CentProfSales = CentPS.groupby(by=\"Segment\").sum().sort_values(by=\"Profit\", ascending = False).round()\n",
        "  display(CentProfSales)\n",
        "  print(\"\\n\")\n",
        "  print(\"*\"*50)"
      ],
      "execution_count": null,
      "outputs": []
    },
    {
      "cell_type": "code",
      "metadata": {
        "id": "x3FpKxcTFvkb"
      },
      "source": [
        "#To find average Consumer discounts in all Regions:\n",
        "#After finding lowest performing Segment (Consumer), focused on Consumer discount amount within all Regions\n",
        "def ConsumerDiscountRegion():\n",
        "  print(\"*\"*50)\n",
        "  print(\"\\n\")\n",
        "  print(\"Average Consumer Discount Rate per Region\")\n",
        "  #.loc to look at Consumer discounts in each region\n",
        "  JustDiscounts = SalesData.loc[SalesData[\"Segment\"]==\"Consumer\"]\n",
        "  RegJustDis = JustDiscounts[[\"Region\", \"Discount\"]]\n",
        "  ConRegDis = RegJustDis.groupby(by=\"Region\").mean().sort_values(by=\"Discount\", ascending = False)\n",
        "  display(ConRegDis)\n",
        "  print(\"\\n\")\n",
        "  print(\"*\"*50)"
      ],
      "execution_count": null,
      "outputs": []
    },
    {
      "cell_type": "code",
      "metadata": {
        "id": "1MLxjwiSGmpy"
      },
      "source": [
        "#To look at Central Consumer Sub-Categories Profits and Discounts:\n",
        "def SubCatConCentProfDis():\n",
        "  print(\"*\"*50)\n",
        "  print(\"\\n\")\n",
        "  print(\"Total Profits and Discounts for all Sub-Categories within Consumer goods in the Central Region\")\n",
        "  CentSubCatProf = SalesData[[\"Segment\", \"Region\", \"Sub-Category\", \"Profit\", \"Discount\"]]\n",
        "  #.loc on sub-categories within Central Consumer segment\n",
        "  CentConSubCatProf = CentSubCatProf.loc[(CentSubCatProf[\"Segment\"]==\"Consumer\") & (CentSubCatProf[\"Region\"]==\"Central\")]\n",
        "  TotalCentConSubCatProf = CentConSubCatProf.groupby(by=[\"Segment\", \"Region\", \"Sub-Category\"]).sum().sort_values(by=\"Profit\", ascending = False).round()\n",
        "  display(TotalCentConSubCatProf)\n",
        "  print(\"\\n\")\n",
        "  print(\"*\"*50)"
      ],
      "execution_count": null,
      "outputs": []
    },
    {
      "cell_type": "code",
      "metadata": {
        "id": "nmjKMLqnIAgy"
      },
      "source": [
        "#To look at Central Consumer Sub-Category Furnishings Negatively Profitting Products and Respective Discounts:\n",
        "#From Analytics, Furnishings is low on profit and high on discount\n",
        "#Shows Negatively Profitting Products and the total Sales and Discount correlation\n",
        "def CentConFurnProfDis():\n",
        "  print(\"*\"*50)\n",
        "  print(\"\\n\")\n",
        "  print(\"The total Sales, Profits, and Discounts for the Negatively Profitting Products in the Central Region's Sub-Category, Furnishings\")\n",
        "  #.loc on the Furnishings Sub-Category to analyze profits\n",
        "  JustFurn = SalesData.loc[(SalesData[\"Sub-Category\"]==\"Furnishings\") & (SalesData[\"Region\"]==\"Central\") & (SalesData[\"Segment\"]==\"Consumer\")]\n",
        "  JustFurnProfDis = JustFurn[[\"Product Name\", \"Profit\", \"Sales\", \"Discount\"]].groupby(\"Product Name\").sum().sort_values(by=\"Profit\", ascending = False)\n",
        "  FurnProfDis = JustFurnProfDis[JustFurnProfDis[\"Profit\"]<0.0]\n",
        "  display(FurnProfDis)\n",
        "  print(\"\\n\")\n",
        "  print(\"*\"*50)"
      ],
      "execution_count": null,
      "outputs": []
    },
    {
      "cell_type": "code",
      "metadata": {
        "id": "wdu39HSYIbAu"
      },
      "source": [
        "#To look at Central Consumer Sub-Category Appliances Negatively Profitting Products and Respective Discounts:\n",
        "#From Analytics, Appliances is low on profit and high on discount\n",
        "#Shows Negatively Profitting Products and the total Sales and Discount correlation\n",
        "def CentConAppProfDis():\n",
        "  print(\"*\"*50)\n",
        "  print(\"\\n\")\n",
        "  print(\"The total Sales, Profits, and Discounts for the Negatively Profitting Products in the Central Region's Sub-Category, Appliances\")\n",
        "  JustApp = SalesData.loc[(SalesData[\"Sub-Category\"]==\"Appliances\") & (SalesData[\"Region\"]==\"Central\") & (SalesData[\"Segment\"]==\"Consumer\")]\n",
        "  #.loc on the Appliances Sub-Category to analyze profits\n",
        "  JustAppProfDis = JustApp[[\"Product Name\", \"Profit\", \"Sales\", \"Discount\"]].groupby(\"Product Name\").sum().sort_values(by=\"Profit\", ascending = False)\n",
        "  AppProfDis = JustAppProfDis[JustAppProfDis[\"Profit\"]<0.0]\n",
        "  display(AppProfDis)\n",
        "  print(\"\\n\")\n",
        "  print(\"*\"*50)"
      ],
      "execution_count": null,
      "outputs": []
    },
    {
      "cell_type": "code",
      "metadata": {
        "id": "WtrpKL9V5-i9",
        "colab": {
          "base_uri": "https://localhost:8080/",
          "height": 688
        },
        "outputId": "da16a575-d718-4864-ccb6-4836829f3f27"
      },
      "source": [
        "print(\"Welcome to the Office Solutions Data Analytics System!\")\n",
        "def MainMenu():\n",
        "\n",
        "  print(\"Welcome to the Office Solutions Data Analytics System!\")\n",
        "  print(\"\\n Enter 1 to see Total Profit and Sales of Each Region\" +\n",
        "        \"\\n Enter 2 to see Average Profit and Sales by Customer Segment in the Central Region\" +\n",
        "        \"\\n Enter 3 to see Average Discounts by Region in Consumer Segment\" +\n",
        "        \"\\n Enter 4 to see Consumer Sub-Categories Profits and Discounts in the Central Region\" +\n",
        "        \"\\n Enter 5 to see Furnishings Negative Profit Products with Respective Discounts from Central Consumers \" +\n",
        "        \"\\n Enter 6 to see Appliances Negative Profit Products with Respective Discounts from Central Consumers\" +\n",
        "        \"\\n Enter 7 to Quit \\n\")\n",
        "\n",
        "  choice = input(\"Please enter your selection here: \")\n",
        "  if choice == \"1\":\n",
        "    RegionSalesProfits()\n",
        "    MainMenu()\n",
        "  elif choice == \"2\":\n",
        "    CentralSegmentSalesProfits()\n",
        "    MainMenu()\n",
        "  elif choice == \"3\":\n",
        "    ConsumerDiscountRegion()\n",
        "    MainMenu()\n",
        "  elif choice == \"4\":\n",
        "    SubCatConCentProfDis()\n",
        "    MainMenu() \n",
        "  elif choice == \"5\":\n",
        "    CentConFurnProfDis() \n",
        "    MainMenu()\n",
        "  elif choice == \"6\":\n",
        "    CentConAppProfDis()\n",
        "    MainMenu()\n",
        "  elif choice == \"7\":\n",
        "    print(\"Thank you for using the Office Solutions Data Analytics System!\")\n",
        "  else:\n",
        "    print(\"*\"*50)\n",
        "    print(\"\\n\")\n",
        "    print(\"Invalid Entry. Please enter a provided option.\")\n",
        "    print(\"\\n\")\n",
        "    print(\"*\"*50)\n",
        "    MainMenu()\n",
        "MainMenu()"
      ],
      "execution_count": null,
      "outputs": [
        {
          "output_type": "stream",
          "text": [
            "Welcome to the Office Solutions Data Analytics System!\n",
            "Welcome to the Office Solutions Data Analytics System!\n",
            "\n",
            " Enter 1 to see Total Profit and Sales of Each Region\n",
            " Enter 2 to see Average Profit and Sales by Customer Segment in the Central Region\n",
            " Enter 3 to see Average Discounts by Region in Consumer Segment\n",
            " Enter 4 to see Consumer Sub-Categories Profits and Discounts in the Central Region\n",
            " Enter 5 to see Furnishings Negative Profit Products with Respective Discounts from Central Consumers \n",
            " Enter 6 to see Appliances Negative Profit Products with Respective Discounts from Central Consumers\n",
            " Enter 7 to Quit \n",
            "\n",
            "**************************************************\n",
            "\n",
            "\n",
            "Total Profits and Sales for each Segment from the Central Region\n"
          ],
          "name": "stdout"
        },
        {
          "output_type": "display_data",
          "data": {
            "text/html": [
              "<div>\n",
              "<style scoped>\n",
              "    .dataframe tbody tr th:only-of-type {\n",
              "        vertical-align: middle;\n",
              "    }\n",
              "\n",
              "    .dataframe tbody tr th {\n",
              "        vertical-align: top;\n",
              "    }\n",
              "\n",
              "    .dataframe thead th {\n",
              "        text-align: right;\n",
              "    }\n",
              "</style>\n",
              "<table border=\"1\" class=\"dataframe\">\n",
              "  <thead>\n",
              "    <tr style=\"text-align: right;\">\n",
              "      <th></th>\n",
              "      <th>Profit</th>\n",
              "      <th>Sales</th>\n",
              "    </tr>\n",
              "    <tr>\n",
              "      <th>Segment</th>\n",
              "      <th></th>\n",
              "      <th></th>\n",
              "    </tr>\n",
              "  </thead>\n",
              "  <tbody>\n",
              "    <tr>\n",
              "      <th>Corporate</th>\n",
              "      <td>18704.0</td>\n",
              "      <td>157996.0</td>\n",
              "    </tr>\n",
              "    <tr>\n",
              "      <th>Home Office</th>\n",
              "      <td>12438.0</td>\n",
              "      <td>91213.0</td>\n",
              "    </tr>\n",
              "    <tr>\n",
              "      <th>Consumer</th>\n",
              "      <td>8564.0</td>\n",
              "      <td>252031.0</td>\n",
              "    </tr>\n",
              "  </tbody>\n",
              "</table>\n",
              "</div>"
            ],
            "text/plain": [
              "              Profit     Sales\n",
              "Segment                       \n",
              "Corporate    18704.0  157996.0\n",
              "Home Office  12438.0   91213.0\n",
              "Consumer      8564.0  252031.0"
            ]
          },
          "metadata": {
            "tags": []
          }
        },
        {
          "output_type": "stream",
          "text": [
            "\n",
            "\n",
            "**************************************************\n",
            "Welcome to the Office Solutions Data Analytics System!\n",
            "\n",
            " Enter 1 to see Total Profit and Sales of Each Region\n",
            " Enter 2 to see Average Profit and Sales by Customer Segment in the Central Region\n",
            " Enter 3 to see Average Discounts by Region in Consumer Segment\n",
            " Enter 4 to see Consumer Sub-Categories Profits and Discounts in the Central Region\n",
            " Enter 5 to see Furnishings Negative Profit Products with Respective Discounts from Central Consumers \n",
            " Enter 6 to see Appliances Negative Profit Products with Respective Discounts from Central Consumers\n",
            " Enter 7 to Quit \n",
            "\n"
          ],
          "name": "stdout"
        }
      ]
    }
  ]
}